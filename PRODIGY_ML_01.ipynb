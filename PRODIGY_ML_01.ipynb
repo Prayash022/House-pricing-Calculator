{
  "nbformat": 4,
  "nbformat_minor": 0,
  "metadata": {
    "colab": {
      "provenance": [],
      "authorship_tag": "ABX9TyM5WnG5T9T9/znDIpiJBThg",
      "include_colab_link": true
    },
    "kernelspec": {
      "name": "python3",
      "display_name": "Python 3"
    },
    "language_info": {
      "name": "python"
    }
  },
  "cells": [
    {
      "cell_type": "markdown",
      "metadata": {
        "id": "view-in-github",
        "colab_type": "text"
      },
      "source": [
        "<a href=\"https://colab.research.google.com/github/Prayash022/House-pricing-Calculator/blob/main/PRODIGY_ML_01.ipynb\" target=\"_parent\"><img src=\"https://colab.research.google.com/assets/colab-badge.svg\" alt=\"Open In Colab\"/></a>"
      ]
    },
    {
      "cell_type": "code",
      "execution_count": null,
      "metadata": {
        "colab": {
          "base_uri": "https://localhost:8080/"
        },
        "id": "LuwmCaDzRss2",
        "outputId": "c9131638-1b8f-47c9-be85-3002d6aeb323"
      },
      "outputs": [
        {
          "output_type": "stream",
          "name": "stdout",
          "text": [
            "Mounted at /content/drive\n",
            "<class 'pandas.core.frame.DataFrame'>\n",
            "RangeIndex: 128 entries, 0 to 127\n",
            "Data columns (total 8 columns):\n",
            " #   Column        Non-Null Count  Dtype \n",
            "---  ------        --------------  ----- \n",
            " 0   Home          128 non-null    int64 \n",
            " 1   Price         128 non-null    int64 \n",
            " 2   SqFt          128 non-null    int64 \n",
            " 3   Bedrooms      128 non-null    int64 \n",
            " 4   Bathrooms     128 non-null    int64 \n",
            " 5   Offers        128 non-null    int64 \n",
            " 6   Brick         128 non-null    object\n",
            " 7   Neighborhood  128 non-null    object\n",
            "dtypes: int64(6), object(2)\n",
            "memory usage: 8.1+ KB\n",
            "None\n",
            "   Home   Price  SqFt  Bedrooms  Bathrooms  Offers Brick Neighborhood\n",
            "0     1  114300  1790         2          2       2    No         East\n",
            "1     2  114200  2030         4          2       3    No         East\n",
            "2     3  114800  1740         3          2       1    No         East\n",
            "3     4   94700  1980         3          2       3    No         East\n",
            "4     5  119800  2130         3          3       3    No         East\n",
            "Mean Squared Error: 341838406.20403427\n",
            "R-squared: 0.4704368557646087\n",
            "\n",
            "Enter the details of the house:\n"
          ]
        }
      ],
      "source": [
        "# Step 1: Mount Google Drive and import necessary libraries\n",
        "from google.colab import drive\n",
        "import pandas as pd\n",
        "import numpy as np\n",
        "import matplotlib.pyplot as plt\n",
        "import seaborn as sns\n",
        "from sklearn.model_selection import train_test_split\n",
        "from sklearn.linear_model import LinearRegression\n",
        "from sklearn.metrics import mean_squared_error, r2_score\n",
        "\n",
        "# Mount Google Drive to access the file\n",
        "drive.mount('/content/drive')\n",
        "\n",
        "# Step 2: Load the dataset from Google Drive\n",
        "df = pd.read_csv('/content/drive/MyDrive/house-prices.csv')\n",
        "\n",
        "# Step 3: Inspect the data\n",
        "print(df.info())\n",
        "print(df.head())  # Display first few rows of the dataset\n",
        "\n",
        "# Step 4: Preprocess the data\n",
        "df.drop_duplicates(inplace=True)\n",
        "df.fillna(0, inplace=True)\n",
        "\n",
        "# Step 5: Feature selection (you need to select relevant features for the model)\n",
        "X = df[['SqFt', 'Bedrooms', 'Bathrooms']]  # Replace with actual column names from your dataset\n",
        "y = df['Price']  # Target variable\n",
        "\n",
        "# Step 6: Split data into training and testing sets\n",
        "X_train, X_test, y_train, y_test = train_test_split(X, y, test_size=0.3, random_state=42)\n",
        "\n",
        "# Step 7: Create a Linear Regression model and train it\n",
        "model = LinearRegression()\n",
        "model.fit(X_train, y_train)\n",
        "\n",
        "# Step 8: Evaluate the model (optional but useful)\n",
        "y_pred = model.predict(X_test)\n",
        "mse = mean_squared_error(y_test, y_pred)\n",
        "r2 = r2_score(y_test, y_pred)\n",
        "\n",
        "print(f\"Mean Squared Error: {mse}\")\n",
        "print(f\"R-squared: {r2}\")\n",
        "\n",
        "# Example of how to get input from the user:\n",
        "print(\"\\nEnter the details of the house:\")\n",
        "square_feet = float(input(\"Enter the square footage: \"))\n",
        "bedrooms = int(input(\"Enter the number of bedrooms: \"))\n",
        "bathrooms = int(input(\"Enter the number of bathrooms: \"))\n",
        "\n",
        "# Predict the price of the new house based on the entered values\n",
        "new_house = np.array([[square_feet, bedrooms, bathrooms]])\n",
        "predicted_price = model.predict(new_house)\n",
        "\n",
        "# Output the predicted price\n",
        "print(f\"\\nPredicted price for the house: ${predicted_price[0]:,.2f}\")\n"
      ]
    }
  ]
}